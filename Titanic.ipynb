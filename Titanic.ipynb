{
 "cells": [
  {
   "cell_type": "code",
   "execution_count": null,
   "metadata": {},
   "outputs": [],
   "source": [
    "import pandas as pd\n",
    "import numpy as np\n",
    "import seaborn as sns\n",
    "import matplotlib as mp"
   ]
  },
  {
   "cell_type": "code",
   "execution_count": null,
   "metadata": {},
   "outputs": [],
   "source": [
    "train_data = pd.read_csv('train.csv')\n",
    "tn_d = pd.DataFrame()\n",
    "tn_d = train_data\n",
    "tn_d.head()"
   ]
  },
  {
   "cell_type": "code",
   "execution_count": null,
   "metadata": {},
   "outputs": [],
   "source": [
    "test_data = pd.read_csv(\"test.csv\")\n",
    "ts_d = pd.DataFrame()\n",
    "ts_d = test_data\n",
    "ts_d.head()"
   ]
  },
  {
   "cell_type": "code",
   "execution_count": null,
   "metadata": {},
   "outputs": [],
   "source": [
    "ts_d['Age'] = ts_d['Age'].interpolate()\n",
    "EmbarkedColumnDummy = pd.get_dummies(ts_d['Embarked'])\n",
    "SexColumnDummy = pd.get_dummies(ts_d['Sex'])\n",
    "ts_d = pd.concat((ts_d, EmbarkedColumnDummy, SexColumnDummy), axis=1)\n",
    "ts_d = ts_d.drop(['Sex','Embarked'],axis=1)"
   ]
  },
  {
   "cell_type": "code",
   "execution_count": null,
   "metadata": {},
   "outputs": [],
   "source": [
    "tn_d['Age'] = tn_d['Age'].interpolate()\n",
    "EmbarkedColumnDummy = pd.get_dummies(tn_d['Embarked'])\n",
    "SexColumnDummy = pd.get_dummies(tn_d['Sex'])\n",
    "tn_d = pd.concat((tn_d, EmbarkedColumnDummy, SexColumnDummy), axis=1)\n",
    "tn_d = ts_d.drop(['Sex','Embarked'],axis=1)"
   ]
  },
  {
   "cell_type": "code",
   "execution_count": null,
   "metadata": {},
   "outputs": [],
   "source": [
    "from sklearn.ensemble import RandomForestClassifier\n",
    "\n",
    "y = tn_d[\"Survived\"]\n",
    "\n",
    "features = [\"Pclass\", \"Age\", \"SibSp\", \"Parch\",'C','S','Q','female','male']\n",
    "X = pd.get_dummies(tn_d[features])\n",
    "X_test = pd.get_dummies(ts_d[features])\n",
    "\n",
    "model = RandomForestClassifier(n_estimators=100, max_depth=4, random_state=1)\n",
    "model.fit(X, y)\n",
    "predictions = model.predict(X_test)\n",
    "\n",
    "output = pd.DataFrame({'PassengerId': ts_d.PassengerId, 'Survived': predictions})\n",
    "output.to_csv('submission.csv', index=False)\n",
    "print(\"Your submission was successfully saved!\")"
   ]
  }
 ],
 "metadata": {
  "language_info": {
   "name": "python"
  },
  "orig_nbformat": 4
 },
 "nbformat": 4,
 "nbformat_minor": 2
}
