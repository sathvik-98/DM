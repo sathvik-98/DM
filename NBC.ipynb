{
 "cells": [
  {
   "cell_type": "code",
   "execution_count": 12,
   "metadata": {},
   "outputs": [],
   "source": [
    "import matplotlib.pyplot as plt # plotting\n",
    "import numpy as np # linear algebra\n",
    "import pandas as pd\n",
    "import string"
   ]
  },
  {
   "cell_type": "code",
   "execution_count": 13,
   "metadata": {},
   "outputs": [],
   "source": [
    "dt = pd.read_json('News_Category_Dataset_v2.json',lines = True)"
   ]
  },
  {
   "cell_type": "code",
   "execution_count": 14,
   "metadata": {},
   "outputs": [
    {
     "data": {
      "text/html": [
       "<div>\n",
       "<style scoped>\n",
       "    .dataframe tbody tr th:only-of-type {\n",
       "        vertical-align: middle;\n",
       "    }\n",
       "\n",
       "    .dataframe tbody tr th {\n",
       "        vertical-align: top;\n",
       "    }\n",
       "\n",
       "    .dataframe thead th {\n",
       "        text-align: right;\n",
       "    }\n",
       "</style>\n",
       "<table border=\"1\" class=\"dataframe\">\n",
       "  <thead>\n",
       "    <tr style=\"text-align: right;\">\n",
       "      <th></th>\n",
       "      <th>category</th>\n",
       "      <th>headline</th>\n",
       "      <th>authors</th>\n",
       "      <th>link</th>\n",
       "      <th>short_description</th>\n",
       "      <th>date</th>\n",
       "    </tr>\n",
       "  </thead>\n",
       "  <tbody>\n",
       "    <tr>\n",
       "      <th>0</th>\n",
       "      <td>CRIME</td>\n",
       "      <td>There Were 2 Mass Shootings In Texas Last Week...</td>\n",
       "      <td>Melissa Jeltsen</td>\n",
       "      <td>https://www.huffingtonpost.com/entry/texas-ama...</td>\n",
       "      <td>She left her husband. He killed their children...</td>\n",
       "      <td>2018-05-26</td>\n",
       "    </tr>\n",
       "    <tr>\n",
       "      <th>1</th>\n",
       "      <td>ENTERTAINMENT</td>\n",
       "      <td>Will Smith Joins Diplo And Nicky Jam For The 2...</td>\n",
       "      <td>Andy McDonald</td>\n",
       "      <td>https://www.huffingtonpost.com/entry/will-smit...</td>\n",
       "      <td>Of course it has a song.</td>\n",
       "      <td>2018-05-26</td>\n",
       "    </tr>\n",
       "    <tr>\n",
       "      <th>2</th>\n",
       "      <td>ENTERTAINMENT</td>\n",
       "      <td>Hugh Grant Marries For The First Time At Age 57</td>\n",
       "      <td>Ron Dicker</td>\n",
       "      <td>https://www.huffingtonpost.com/entry/hugh-gran...</td>\n",
       "      <td>The actor and his longtime girlfriend Anna Ebe...</td>\n",
       "      <td>2018-05-26</td>\n",
       "    </tr>\n",
       "    <tr>\n",
       "      <th>3</th>\n",
       "      <td>ENTERTAINMENT</td>\n",
       "      <td>Jim Carrey Blasts 'Castrato' Adam Schiff And D...</td>\n",
       "      <td>Ron Dicker</td>\n",
       "      <td>https://www.huffingtonpost.com/entry/jim-carre...</td>\n",
       "      <td>The actor gives Dems an ass-kicking for not fi...</td>\n",
       "      <td>2018-05-26</td>\n",
       "    </tr>\n",
       "    <tr>\n",
       "      <th>4</th>\n",
       "      <td>ENTERTAINMENT</td>\n",
       "      <td>Julianna Margulies Uses Donald Trump Poop Bags...</td>\n",
       "      <td>Ron Dicker</td>\n",
       "      <td>https://www.huffingtonpost.com/entry/julianna-...</td>\n",
       "      <td>The \"Dietland\" actress said using the bags is ...</td>\n",
       "      <td>2018-05-26</td>\n",
       "    </tr>\n",
       "  </tbody>\n",
       "</table>\n",
       "</div>"
      ],
      "text/plain": [
       "        category                                           headline  \\\n",
       "0          CRIME  There Were 2 Mass Shootings In Texas Last Week...   \n",
       "1  ENTERTAINMENT  Will Smith Joins Diplo And Nicky Jam For The 2...   \n",
       "2  ENTERTAINMENT    Hugh Grant Marries For The First Time At Age 57   \n",
       "3  ENTERTAINMENT  Jim Carrey Blasts 'Castrato' Adam Schiff And D...   \n",
       "4  ENTERTAINMENT  Julianna Margulies Uses Donald Trump Poop Bags...   \n",
       "\n",
       "           authors                                               link  \\\n",
       "0  Melissa Jeltsen  https://www.huffingtonpost.com/entry/texas-ama...   \n",
       "1    Andy McDonald  https://www.huffingtonpost.com/entry/will-smit...   \n",
       "2       Ron Dicker  https://www.huffingtonpost.com/entry/hugh-gran...   \n",
       "3       Ron Dicker  https://www.huffingtonpost.com/entry/jim-carre...   \n",
       "4       Ron Dicker  https://www.huffingtonpost.com/entry/julianna-...   \n",
       "\n",
       "                                   short_description       date  \n",
       "0  She left her husband. He killed their children... 2018-05-26  \n",
       "1                           Of course it has a song. 2018-05-26  \n",
       "2  The actor and his longtime girlfriend Anna Ebe... 2018-05-26  \n",
       "3  The actor gives Dems an ass-kicking for not fi... 2018-05-26  \n",
       "4  The \"Dietland\" actress said using the bags is ... 2018-05-26  "
      ]
     },
     "execution_count": 14,
     "metadata": {},
     "output_type": "execute_result"
    }
   ],
   "source": [
    "dt.head()"
   ]
  },
  {
   "cell_type": "code",
   "execution_count": null,
   "metadata": {},
   "outputs": [],
   "source": [
    "r = dt['category'].value_counts()\n",
    "r.reset_index"
   ]
  },
  {
   "cell_type": "code",
   "execution_count": 16,
   "metadata": {},
   "outputs": [],
   "source": [
    "categories=[]\n",
    "for r1 in r.index:\n",
    "    categories.append(str(r1))"
   ]
  },
  {
   "cell_type": "code",
   "execution_count": 18,
   "metadata": {},
   "outputs": [
    {
     "data": {
      "text/plain": [
       "Text(0, 0.5, 'Count')"
      ]
     },
     "execution_count": 18,
     "metadata": {},
     "output_type": "execute_result"
    },
    {
     "data": {
      "image/png": "[encoded data removed]",
      "text/plain": [
       "<Figure size 1080x360 with 1 Axes>"
      ]
     },
     "metadata": {
      "needs_background": "light"
     },
     "output_type": "display_data"
    }
   ],
   "source": [
    "reslut = dt['category'].value_counts()\n",
    "plt.figure(figsize=(15, 5))\n",
    "plt.bar(categories,reslut)\n",
    "plt.xticks(categories,rotation ='vertical')\n",
    "plt.xlabel('Classes')\n",
    "plt.ylabel('Count')"
   ]
  },
  {
   "cell_type": "code",
   "execution_count": 19,
   "metadata": {},
   "outputs": [],
   "source": [
    "from numpy.random import RandomState\n",
    "rng = RandomState()\n",
    "\n",
    "train = dt.sample(frac=0.6, random_state=rng)\n",
    "test = dt.loc[~dt.index.isin(train.index)]"
   ]
  },
  {
   "cell_type": "code",
   "execution_count": 20,
   "metadata": {},
   "outputs": [],
   "source": [
    "test = test.sample(frac=0.5, random_state=rng)\n",
    "val = test.loc[~test.index.isin(train.index)]"
   ]
  },
  {
   "cell_type": "code",
   "execution_count": 21,
   "metadata": {},
   "outputs": [
    {
     "name": "stdout",
     "output_type": "stream",
     "text": [
      "<class 'pandas.core.frame.DataFrame'>\n",
      "Int64Index: 120512 entries, 131273 to 142778\n",
      "Data columns (total 6 columns):\n",
      " #   Column             Non-Null Count   Dtype         \n",
      "---  ------             --------------   -----         \n",
      " 0   category           120512 non-null  object        \n",
      " 1   headline           120512 non-null  object        \n",
      " 2   authors            120512 non-null  object        \n",
      " 3   link               120512 non-null  object        \n",
      " 4   short_description  120512 non-null  object        \n",
      " 5   date               120512 non-null  datetime64[ns]\n",
      "dtypes: datetime64[ns](1), object(5)\n",
      "memory usage: 6.4+ MB\n"
     ]
    }
   ],
   "source": [
    "train = pd.DataFrame(train)\n",
    "test = pd.DataFrame(test)\n",
    "val = pd.DataFrame(val)\n",
    "train.info()"
   ]
  },
  {
   "cell_type": "code",
   "execution_count": 135,
   "metadata": {},
   "outputs": [],
   "source": [
    "total_probs ={}\n",
    "total_rows = 120512\n",
    "indexes = train.groupby('category').count().index\n",
    "for i in range(len(indexes)):\n",
    "    total_probs[indexes[i]] = train.groupby('category').count().iloc[i,0]/total_rows"
   ]
  },
  {
   "cell_type": "code",
   "execution_count": 147,
   "metadata": {},
   "outputs": [],
   "source": [
    "category_dict = {sec:{} for sec in categories}"
   ]
  },
  {
   "cell_type": "code",
   "execution_count": 138,
   "metadata": {},
   "outputs": [],
   "source": [
    "sw_list =[\"0o\", \"0s\", \"3a\", \"3b\", \"3d\", \"6b\", \"6o\", \"a\", \"a1\", \"a2\", \"a3\", \"a4\", \"ab\", \"able\", \"about\", \"above\", \"abst\", \"ac\", \"accordance\", \"according\", \"accordingly\", \"across\", \"act\", \"actually\", \"ad\", \"added\", \"adj\", \"ae\", \"af\", \"affected\", \"affecting\", \"affects\", \"after\", \"afterwards\", \"ag\", \"again\", \"against\", \"ah\", \"ain\", \"ain't\", \"aj\", \"al\", \"all\", \"allow\", \"allows\", \"almost\", \"alone\", \"along\", \"already\", \"also\", \"although\", \"always\", \"am\", \"among\", \"amongst\", \"amoungst\", \"amount\", \"an\", \"and\", \"announce\", \"another\", \"any\", \"anybody\", \"anyhow\", \"anymore\", \"anyone\", \"anything\", \"anyway\", \"anyways\", \"anywhere\", \"ao\", \"ap\", \"apart\", \"apparently\", \"appear\", \"appreciate\", \"appropriate\", \"approximately\", \"ar\", \"are\", \"aren\", \"arent\", \"aren't\", \"arise\", \"around\", \"as\", \"a's\", \"aside\", \"ask\", \"asking\", \"associated\", \"at\", \"au\", \"auth\", \"av\", \"available\", \"aw\", \"away\", \"awfully\", \"ax\", \"ay\", \"az\", \"b\", \"b1\", \"b2\", \"b3\", \"ba\", \"back\", \"bc\", \"bd\", \"be\", \"became\", \"because\", \"become\", \"becomes\", \"becoming\", \"been\", \"before\", \"beforehand\", \"begin\", \"beginning\", \"beginnings\", \"begins\", \"behind\", \"being\", \"believe\", \"below\", \"beside\", \"besides\", \"best\", \"better\", \"between\", \"beyond\", \"bi\", \"bill\", \"biol\", \"bj\", \"bk\", \"bl\", \"bn\", \"both\", \"bottom\", \"bp\", \"br\", \"brief\", \"briefly\", \"bs\", \"bt\", \"bu\", \"but\", \"bx\", \"by\", \"c\", \"c1\", \"c2\", \"c3\", \"ca\", \"call\", \"came\", \"can\", \"cannot\", \"cant\", \"can't\", \"cause\", \"causes\", \"cc\", \"cd\", \"ce\", \"certain\", \"certainly\", \"cf\", \"cg\", \"ch\", \"changes\", \"ci\", \"cit\", \"cj\", \"cl\", \"clearly\", \"cm\", \"c'mon\", \"cn\", \"co\", \"com\", \"come\", \"comes\", \"con\", \"concerning\", \"consequently\", \"consider\", \"considering\", \"contain\", \"containing\", \"contains\", \"corresponding\", \"could\", \"couldn\", \"couldnt\", \"couldn't\", \"course\", \"cp\", \"cq\", \"cr\", \"cry\", \"cs\", \"c's\", \"ct\", \"cu\", \"currently\", \"cv\", \"cx\", \"cy\", \"cz\", \"d\", \"d2\", \"da\", \"date\", \"dc\", \"dd\", \"de\", \"definitely\", \"describe\", \"described\", \"despite\", \"detail\", \"df\", \"di\", \"did\", \"didn\", \"didn't\", \"different\", \"dj\", \"dk\", \"dl\", \"do\", \"does\", \"doesn\", \"doesn't\", \"doing\", \"don\", \"done\", \"don't\", \"down\", \"downwards\", \"dp\", \"dr\", \"ds\", \"dt\", \"du\", \"due\", \"during\", \"dx\", \"dy\", \"e\", \"e2\", \"e3\", \"ea\", \"each\", \"ec\", \"ed\", \"edu\", \"ee\", \"ef\", \"effect\", \"eg\", \"ei\", \"eight\", \"eighty\", \"either\", \"ej\", \"el\", \"eleven\", \"else\", \"elsewhere\", \"em\", \"empty\", \"en\", \"end\", \"ending\", \"enough\", \"entirely\", \"eo\", \"ep\", \"eq\", \"er\", \"es\", \"especially\", \"est\", \"et\", \"et-al\", \"etc\", \"eu\", \"ev\", \"even\", \"ever\", \"every\", \"everybody\", \"everyone\", \"everything\", \"everywhere\", \"ex\", \"exactly\", \"example\", \"except\", \"ey\", \"f\", \"f2\", \"fa\", \"far\", \"fc\", \"few\", \"ff\", \"fi\", \"fifteen\", \"fifth\", \"fify\", \"fill\", \"find\", \"fire\", \"first\", \"five\", \"fix\", \"fj\", \"fl\", \"fn\", \"fo\", \"followed\", \"following\", \"follows\", \"for\", \"former\", \"formerly\", \"forth\", \"forty\", \"found\", \"four\", \"fr\", \"from\", \"front\", \"fs\", \"ft\", \"fu\", \"full\", \"further\", \"furthermore\", \"fy\", \"g\", \"ga\", \"gave\", \"ge\", \"get\", \"gets\", \"getting\", \"gi\", \"give\", \"given\", \"gives\", \"giving\", \"gj\", \"gl\", \"go\", \"goes\", \"going\", \"gone\", \"got\", \"gotten\", \"gr\", \"greetings\", \"gs\", \"gy\", \"h\", \"h2\", \"h3\", \"had\", \"hadn\", \"hadn't\", \"happens\", \"hardly\", \"has\", \"hasn\", \"hasnt\", \"hasn't\", \"have\", \"haven\", \"haven't\", \"having\", \"he\", \"hed\", \"he'd\", \"he'll\", \"hello\", \"help\", \"hence\", \"her\", \"here\", \"hereafter\", \"hereby\", \"herein\", \"heres\", \"here's\", \"hereupon\", \"hers\", \"herself\", \"hes\", \"he's\", \"hh\", \"hi\", \"hid\", \"him\", \"himself\", \"his\", \"hither\", \"hj\", \"ho\", \"home\", \"hopefully\", \"how\", \"howbeit\", \"however\", \"how's\", \"hr\", \"hs\", \"http\", \"hu\", \"hundred\", \"hy\", \"i\", \"i2\", \"i3\", \"i4\", \"i6\", \"i7\", \"i8\", \"ia\", \"ib\", \"ibid\", \"ic\", \"id\", \"i'd\", \"ie\", \"if\", \"ig\", \"ignored\", \"ih\", \"ii\", \"ij\", \"il\", \"i'll\", \"im\", \"i'm\", \"immediate\", \"immediately\", \"importance\", \"important\", \"in\", \"inasmuch\", \"inc\", \"indeed\", \"index\", \"indicate\", \"indicated\", \"indicates\", \"information\", \"inner\", \"insofar\", \"instead\", \"interest\", \"into\", \"invention\", \"inward\", \"io\", \"ip\", \"iq\", \"ir\", \"is\", \"isn\", \"isn't\", \"it\", \"itd\", \"it'd\", \"it'll\", \"its\", \"it's\", \"itself\", \"iv\", \"i've\", \"ix\", \"iy\", \"iz\", \"j\", \"jj\", \"jr\", \"js\", \"jt\", \"ju\", \"just\", \"k\", \"ke\", \"keep\", \"keeps\", \"kept\", \"kg\", \"kj\", \"km\", \"know\", \"known\", \"knows\", \"ko\", \"l\", \"l2\", \"la\", \"largely\", \"last\", \"lately\", \"later\", \"latter\", \"latterly\", \"lb\", \"lc\", \"le\", \"least\", \"les\", \"less\", \"lest\", \"let\", \"lets\", \"let's\", \"lf\", \"like\", \"liked\", \"likely\", \"line\", \"little\", \"lj\", \"ll\", \"ll\", \"ln\", \"lo\", \"look\", \"looking\", \"looks\", \"los\", \"lr\", \"ls\", \"lt\", \"ltd\", \"m\", \"m2\", \"ma\", \"made\", \"mainly\", \"make\", \"makes\", \"many\", \"may\", \"maybe\", \"me\", \"mean\", \"means\", \"meantime\", \"meanwhile\", \"merely\", \"mg\", \"might\", \"mightn\", \"mightn't\", \"mill\", \"million\", \"mine\", \"miss\", \"ml\", \"mn\", \"mo\", \"more\", \"moreover\", \"most\", \"mostly\", \"move\", \"mr\", \"mrs\", \"ms\", \"mt\", \"mu\", \"much\", \"mug\", \"must\", \"mustn\", \"mustn't\", \"my\", \"myself\", \"n\", \"n2\", \"na\", \"name\", \"namely\", \"nay\", \"nc\", \"nd\", \"ne\", \"near\", \"nearly\", \"necessarily\", \"necessary\", \"need\", \"needn\", \"needn't\", \"needs\", \"neither\", \"never\", \"nevertheless\", \"new\", \"next\", \"ng\", \"ni\", \"nine\", \"ninety\", \"nj\", \"nl\", \"nn\", \"no\", \"nobody\", \"non\", \"none\", \"nonetheless\", \"noone\", \"nor\", \"normally\", \"nos\", \"not\", \"noted\", \"nothing\", \"novel\", \"now\", \"nowhere\", \"nr\", \"ns\", \"nt\", \"ny\", \"o\", \"oa\", \"ob\", \"obtain\", \"obtained\", \"obviously\", \"oc\", \"od\", \"of\", \"off\", \"often\", \"og\", \"oh\", \"oi\", \"oj\", \"ok\", \"okay\", \"ol\", \"old\", \"om\", \"omitted\", \"on\", \"once\", \"one\", \"ones\", \"only\", \"onto\", \"oo\", \"op\", \"oq\", \"or\", \"ord\", \"os\", \"ot\", \"other\", \"others\", \"otherwise\", \"ou\", \"ought\", \"our\", \"ours\", \"ourselves\", \"out\", \"outside\", \"over\", \"overall\", \"ow\", \"owing\", \"own\", \"ox\", \"oz\", \"p\", \"p1\", \"p2\", \"p3\", \"page\", \"pagecount\", \"pages\", \"par\", \"part\", \"particular\", \"particularly\", \"pas\", \"past\", \"pc\", \"pd\", \"pe\", \"per\", \"perhaps\", \"pf\", \"ph\", \"pi\", \"pj\", \"pk\", \"pl\", \"placed\", \"please\", \"plus\", \"pm\", \"pn\", \"po\", \"poorly\", \"possible\", \"possibly\", \"potentially\", \"pp\", \"pq\", \"pr\", \"predominantly\", \"present\", \"presumably\", \"previously\", \"primarily\", \"probably\", \"promptly\", \"proud\", \"provides\", \"ps\", \"pt\", \"pu\", \"put\", \"py\", \"q\", \"qj\", \"qu\", \"que\", \"quickly\", \"quite\", \"qv\", \"r\", \"r2\", \"ra\", \"ran\", \"rather\", \"rc\", \"rd\", \"re\", \"readily\", \"really\", \"reasonably\", \"recent\", \"recently\", \"ref\", \"refs\", \"regarding\", \"regardless\", \"regards\", \"related\", \"relatively\", \"research\", \"research-articl\", \"respectively\", \"resulted\", \"resulting\", \"results\", \"rf\", \"rh\", \"ri\", \"right\", \"rj\", \"rl\", \"rm\", \"rn\", \"ro\", \"rq\", \"rr\", \"rs\", \"rt\", \"ru\", \"run\", \"rv\", \"ry\", \"s\", \"s2\", \"sa\", \"said\", \"same\", \"saw\", \"say\", \"saying\", \"says\", \"sc\", \"sd\", \"se\", \"sec\", \"second\", \"secondly\", \"section\", \"see\", \"seeing\", \"seem\", \"seemed\", \"seeming\", \"seems\", \"seen\", \"self\", \"selves\", \"sensible\", \"sent\", \"serious\", \"seriously\", \"seven\", \"several\", \"sf\", \"shall\", \"shan\", \"shan't\", \"she\", \"shed\", \"she'd\", \"she'll\", \"shes\", \"she's\", \"should\", \"shouldn\", \"shouldn't\", \"should've\", \"show\", \"showed\", \"shown\", \"showns\", \"shows\", \"si\", \"side\", \"significant\", \"significantly\", \"similar\", \"similarly\", \"since\", \"sincere\", \"six\", \"sixty\", \"sj\", \"sl\", \"slightly\", \"sm\", \"sn\", \"so\", \"some\", \"somebody\", \"somehow\", \"someone\", \"somethan\", \"something\", \"sometime\", \"sometimes\", \"somewhat\", \"somewhere\", \"soon\", \"sorry\", \"sp\", \"specifically\", \"specified\", \"specify\", \"specifying\", \"sq\", \"sr\", \"ss\", \"st\", \"still\", \"stop\", \"strongly\", \"sub\", \"substantially\", \"successfully\", \"such\", \"sufficiently\", \"suggest\", \"sup\", \"sure\", \"sy\", \"system\", \"sz\", \"t\", \"t1\", \"t2\", \"t3\", \"take\", \"taken\", \"taking\", \"tb\", \"tc\", \"td\", \"te\", \"tell\", \"ten\", \"tends\", \"tf\", \"th\", \"than\", \"thank\", \"thanks\", \"thanx\", \"that\", \"that'll\", \"thats\", \"that's\", \"that've\", \"the\", \"their\", \"theirs\", \"them\", \"themselves\", \"then\", \"thence\", \"there\", \"thereafter\", \"thereby\", \"thered\", \"therefore\", \"therein\", \"there'll\", \"thereof\", \"therere\", \"theres\", \"there's\", \"thereto\", \"thereupon\", \"there've\", \"these\", \"they\", \"theyd\", \"they'd\", \"they'll\", \"theyre\", \"they're\", \"they've\", \"thickv\", \"thin\", \"think\", \"third\", \"this\", \"thorough\", \"thoroughly\", \"those\", \"thou\", \"though\", \"thoughh\", \"thousand\", \"three\", \"throug\", \"through\", \"throughout\", \"thru\", \"thus\", \"ti\", \"til\", \"tip\", \"tj\", \"tl\", \"tm\", \"tn\", \"to\", \"together\", \"too\", \"took\", \"top\", \"toward\", \"towards\", \"tp\", \"tq\", \"tr\", \"tried\", \"tries\", \"truly\", \"try\", \"trying\", \"ts\", \"t's\", \"tt\", \"tv\", \"twelve\", \"twenty\", \"twice\", \"two\", \"tx\", \"u\", \"u201d\", \"ue\", \"ui\", \"uj\", \"uk\", \"um\", \"un\", \"under\", \"unfortunately\", \"unless\", \"unlike\", \"unlikely\", \"until\", \"unto\", \"uo\", \"up\", \"upon\", \"ups\", \"ur\", \"us\", \"use\", \"used\", \"useful\", \"usefully\", \"usefulness\", \"uses\", \"using\", \"usually\", \"ut\", \"v\", \"va\", \"value\", \"various\", \"vd\", \"ve\", \"ve\", \"very\", \"via\", \"viz\", \"vj\", \"vo\", \"vol\", \"vols\", \"volumtype\", \"vq\", \"vs\", \"vt\", \"vu\", \"w\", \"wa\", \"want\", \"wants\", \"was\", \"wasn\", \"wasnt\", \"wasn't\", \"way\", \"we\", \"wed\", \"we'd\", \"welcome\", \"well\", \"we'll\", \"well-b\", \"went\", \"were\", \"we're\", \"weren\", \"werent\", \"weren't\", \"we've\", \"what\", \"whatever\", \"what'll\", \"whats\", \"what's\", \"when\", \"whence\", \"whenever\", \"when's\", \"where\", \"whereafter\", \"whereas\", \"whereby\", \"wherein\", \"wheres\", \"where's\", \"whereupon\", \"wherever\", \"whether\", \"which\", \"while\", \"whim\", \"whither\", \"who\", \"whod\", \"whoever\", \"whole\", \"who'll\", \"whom\", \"whomever\", \"whos\", \"who's\", \"whose\", \"why\", \"why's\", \"wi\", \"widely\", \"will\", \"willing\", \"wish\", \"with\", \"within\", \"without\", \"wo\", \"won\", \"wonder\", \"wont\", \"won't\", \"words\", \"world\", \"would\", \"wouldn\", \"wouldnt\", \"wouldn't\", \"www\", \"x\", \"x1\", \"x2\", \"x3\", \"xf\", \"xi\", \"xj\", \"xk\", \"xl\", \"xn\", \"xo\", \"xs\", \"xt\", \"xv\", \"xx\", \"y\", \"y2\", \"yes\", \"yet\", \"yj\", \"yl\", \"you\", \"youd\", \"you'd\", \"you'll\", \"your\", \"youre\", \"you're\", \"yours\", \"yourself\", \"yourselves\", \"you've\", \"yr\", \"ys\", \"yt\", \"z\", \"zero\", \"zi\", \"zz\"]\n",
    "punct = str.maketrans('', '', string.punctuation)"
   ]
  },
  {
   "cell_type": "code",
   "execution_count": 148,
   "metadata": {},
   "outputs": [],
   "source": [
    "def prob(x):\n",
    "    c1 = str(x['category'])\n",
    "    for w1 in x['headline'].split(\" \"):\n",
    "        w1 = str(w1).lower()\n",
    "        w1 = w1.translate(punct)\n",
    "        if w1 not in sw_list:\n",
    "            if w1 in category_dict[c1]:\n",
    "                category_dict[c1][w1] += 1\n",
    "            else:\n",
    "                category_dict[c1][w1] = 1\n",
    "    for w2 in x['short_description'].split(\" \"):\n",
    "        w2 = str(w2).lower() \n",
    "        w2 = w2.translate(punct)\n",
    "        if w2 not in sw_list:\n",
    "            if w2 in category_dict[c1]:\n",
    "                category_dict[c1][w2] += 1\n",
    "            else:\n",
    "                category_dict[c1][w2] = 1"
   ]
  },
  {
   "cell_type": "code",
   "execution_count": 149,
   "metadata": {},
   "outputs": [
    {
     "data": {
      "text/plain": [
       "131273    None\n",
       "197016    None\n",
       "148936    None\n",
       "107999    None\n",
       "40799     None\n",
       "          ... \n",
       "178922    None\n",
       "97818     None\n",
       "65334     None\n",
       "102184    None\n",
       "142778    None\n",
       "Length: 120512, dtype: object"
      ]
     },
     "execution_count": 149,
     "metadata": {},
     "output_type": "execute_result"
    }
   ],
   "source": [
    "train.apply(lambda x:prob(x),axis=1)"
   ]
  },
  {
   "cell_type": "code",
   "execution_count": 150,
   "metadata": {},
   "outputs": [],
   "source": [
    "words_num =[]\n",
    "def smoothing(x1):\n",
    "    for w1 in x1['headline'].split(\" \"):\n",
    "        w1 = str(w1).lower() \n",
    "        w1 = w1.translate(punct)\n",
    "        if w1 not in sw_list:\n",
    "            words_num.append(w1)\n",
    "    for w in x1['short_description'].split(\" \"):\n",
    "        w = str(w).lower() \n",
    "        w = w.translate(punct)\n",
    "        if w not in sw_list:\n",
    "            words_num.append(w)\n",
    "\n",
    "    for word in words_num:\n",
    "        for c in categories:\n",
    "            if word in category_dict[c]:\n",
    "                pass\n",
    "            else:\n",
    "                for c in categories:\n",
    "                    try:\n",
    "                        category_dict[c][word] += 1\n",
    "                    except KeyError:\n",
    "                        category_dict[c][word] = 1\n",
    "    words_num.clear()   "
   ]
  },
  {
   "cell_type": "code",
   "execution_count": 151,
   "metadata": {},
   "outputs": [
    {
     "data": {
      "text/plain": [
       "131273    None\n",
       "197016    None\n",
       "148936    None\n",
       "107999    None\n",
       "40799     None\n",
       "          ... \n",
       "178922    None\n",
       "97818     None\n",
       "65334     None\n",
       "102184    None\n",
       "142778    None\n",
       "Length: 120512, dtype: object"
      ]
     },
     "execution_count": 151,
     "metadata": {},
     "output_type": "execute_result"
    }
   ],
   "source": [
    "train.apply(lambda x1:smoothing(x1),axis=1)"
   ]
  },
  {
   "cell_type": "code",
   "execution_count": 152,
   "metadata": {},
   "outputs": [
    {
     "name": "stdout",
     "output_type": "stream",
     "text": [
      "5619618\n"
     ]
    },
    {
     "data": {
      "text/plain": [
       "{'POLITICS': 372591,\n",
       " 'WELLNESS': 277251,\n",
       " 'ENTERTAINMENT': 215089,\n",
       " 'TRAVEL': 195749,\n",
       " 'STYLE & BEAUTY': 191566,\n",
       " 'PARENTING': 180779,\n",
       " 'HEALTHY LIVING': 145101,\n",
       " 'QUEER VOICES': 149305,\n",
       " 'FOOD & DRINK': 141507,\n",
       " 'BUSINESS': 149543,\n",
       " 'COMEDY': 131440,\n",
       " 'SPORTS': 132648,\n",
       " 'BLACK VOICES': 134661,\n",
       " 'HOME & LIVING': 129749,\n",
       " 'PARENTS': 124361,\n",
       " 'THE WORLDPOST': 126169,\n",
       " 'WEDDINGS': 130630,\n",
       " 'WOMEN': 121615,\n",
       " 'IMPACT': 128420,\n",
       " 'DIVORCE': 125316,\n",
       " 'CRIME': 122306,\n",
       " 'MEDIA': 117485,\n",
       " 'WEIRD NEWS': 110144,\n",
       " 'GREEN': 118108,\n",
       " 'WORLDPOST': 118014,\n",
       " 'RELIGION': 115449,\n",
       " 'STYLE': 106465,\n",
       " 'SCIENCE': 112626,\n",
       " 'WORLD NEWS': 114041,\n",
       " 'TASTE': 108656,\n",
       " 'TECH': 111147,\n",
       " 'MONEY': 111482,\n",
       " 'ARTS': 107809,\n",
       " 'FIFTY': 108177,\n",
       " 'GOOD NEWS': 103320,\n",
       " 'ARTS & CULTURE': 104556,\n",
       " 'ENVIRONMENT': 108767,\n",
       " 'COLLEGE': 104410,\n",
       " 'LATINO VOICES': 103545,\n",
       " 'CULTURE & ARTS': 105612,\n",
       " 'EDUCATION': 104009}"
      ]
     },
     "execution_count": 152,
     "metadata": {},
     "output_type": "execute_result"
    }
   ],
   "source": [
    "total = 0\n",
    "sums_dict = {}\n",
    "for c in categories:\n",
    "    sums_dict[c] = sum(category_dict[c].values())\n",
    "    total += sum(category_dict[c].values())\n",
    "print(total)\n",
    "sums_dict"
   ]
  },
  {
   "cell_type": "code",
   "execution_count": 153,
   "metadata": {},
   "outputs": [],
   "source": [
    "words_num =[]\n",
    "num_dict = {sec:{} for sec in train['headline']}\n",
    "def numerator(x1):\n",
    "    nume = 1\n",
    "    for w1 in x1['headline'].split(\" \"):\n",
    "        w1 = str(w1).lower() \n",
    "        w1 = w1.translate(punct)\n",
    "        if w1 not in sw_list:\n",
    "            words_num.append(w1)\n",
    "    for w in x1['short_description'].split(\" \"):\n",
    "        w = str(w).lower() \n",
    "        w = w.translate(punct)\n",
    "        if w not in sw_list:\n",
    "            words_num.append(w)\n",
    "\n",
    "    for c in categories:\n",
    "        for word in words_num:\n",
    "            nume *= category_dict[c][word]/sums_dict[c]\n",
    "        num_dict[x1['headline']][c] = nume\n",
    "        nume = 1\n",
    "    words_num.clear()"
   ]
  },
  {
   "cell_type": "code",
   "execution_count": 154,
   "metadata": {},
   "outputs": [
    {
     "data": {
      "text/plain": [
       "131273    None\n",
       "197016    None\n",
       "148936    None\n",
       "107999    None\n",
       "40799     None\n",
       "          ... \n",
       "178922    None\n",
       "97818     None\n",
       "65334     None\n",
       "102184    None\n",
       "142778    None\n",
       "Length: 120512, dtype: object"
      ]
     },
     "execution_count": 154,
     "metadata": {},
     "output_type": "execute_result"
    }
   ],
   "source": [
    "train.apply(lambda x1:numerator(x1),axis=1)"
   ]
  },
  {
   "cell_type": "code",
   "execution_count": 155,
   "metadata": {},
   "outputs": [],
   "source": [
    "denom_dict ={}\n",
    "\n",
    "def denominator(x1):\n",
    "    d = 0\n",
    "    for c in categories:\n",
    "        d += (total_probs[c])*num_dict[x1['headline']][c]\n",
    "    denom_dict[x1['headline']] = d"
   ]
  },
  {
   "cell_type": "code",
   "execution_count": 156,
   "metadata": {},
   "outputs": [
    {
     "data": {
      "text/plain": [
       "131273    None\n",
       "197016    None\n",
       "148936    None\n",
       "107999    None\n",
       "40799     None\n",
       "          ... \n",
       "178922    None\n",
       "97818     None\n",
       "65334     None\n",
       "102184    None\n",
       "142778    None\n",
       "Length: 120512, dtype: object"
      ]
     },
     "execution_count": 156,
     "metadata": {},
     "output_type": "execute_result"
    }
   ],
   "source": [
    "train.apply(lambda x1:denominator(x1),axis=1)"
   ]
  },
  {
   "cell_type": "code",
   "execution_count": 157,
   "metadata": {},
   "outputs": [],
   "source": [
    "final_prob = {sec:{} for sec in train['headline']}\n",
    "def NBC(x1):\n",
    "    for c in categories:\n",
    "        final_prob[x1['headline']][c] = (total_probs[c])*num_dict[x1['headline']][c]/denom_dict[x1['headline']]"
   ]
  },
  {
   "cell_type": "code",
   "execution_count": 159,
   "metadata": {},
   "outputs": [
    {
     "name": "stderr",
     "output_type": "stream",
     "text": [
      "/var/folders/sz/57t4_wnd57s3qt84x7drdp7c0000gn/T/ipykernel_3398/2918355394.py:4: RuntimeWarning: invalid value encountered in double_scalars\n",
      "  final_prob[x1['headline']][c] = (total_probs[c])*num_dict[x1['headline']][c]/denom_dict[x1['headline']]\n"
     ]
    },
    {
     "data": {
      "text/plain": [
       "131273    None\n",
       "197016    None\n",
       "148936    None\n",
       "107999    None\n",
       "40799     None\n",
       "          ... \n",
       "178922    None\n",
       "97818     None\n",
       "65334     None\n",
       "102184    None\n",
       "142778    None\n",
       "Length: 120512, dtype: object"
      ]
     },
     "execution_count": 159,
     "metadata": {},
     "output_type": "execute_result"
    }
   ],
   "source": [
    "train.apply(lambda x1:NBC(x1),axis=1)"
   ]
  },
  {
   "cell_type": "code",
   "execution_count": 160,
   "metadata": {},
   "outputs": [],
   "source": [
    "list_acc=[]\n",
    "def acc(x1):\n",
    "    if str(x1['category']) == max(final_prob[x1['headline']], key=final_prob[x1['headline']].get):\n",
    "        list_acc.append(1)"
   ]
  },
  {
   "cell_type": "code",
   "execution_count": 161,
   "metadata": {},
   "outputs": [
    {
     "data": {
      "text/plain": [
       "131273    None\n",
       "197016    None\n",
       "148936    None\n",
       "107999    None\n",
       "40799     None\n",
       "          ... \n",
       "178922    None\n",
       "97818     None\n",
       "65334     None\n",
       "102184    None\n",
       "142778    None\n",
       "Length: 120512, dtype: object"
      ]
     },
     "execution_count": 161,
     "metadata": {},
     "output_type": "execute_result"
    }
   ],
   "source": [
    "train.apply(lambda x1:acc(x1),axis=1)"
   ]
  },
  {
   "cell_type": "code",
   "execution_count": 164,
   "metadata": {},
   "outputs": [
    {
     "name": "stdout",
     "output_type": "stream",
     "text": [
      "The accuracy of training set is: 63.379580456718 %\n"
     ]
    }
   ],
   "source": [
    "train_acc = 100*len(list_acc)/total_rows\n",
    "print(f'The accuracy of training set is: {train_acc} %')"
   ]
  },
  {
   "cell_type": "code",
   "execution_count": 174,
   "metadata": {},
   "outputs": [],
   "source": [
    "words_num =[]\n",
    "num_dict = {sec:{} for sec in val['headline']}\n",
    "\n",
    "def jms_numerator(x1):\n",
    "    a = 0.5;d1 = 0;nume = 1\n",
    "    for w1 in x1['headline'].split(\" \"):\n",
    "        w1 = str(w1).lower() \n",
    "        w1 = w1.translate(punct)\n",
    "        if w1 not in sw_list:\n",
    "            words_num.append(w1)\n",
    "    for w in x1['short_description'].split(\" \"):\n",
    "        w = str(w).lower() \n",
    "        w = w.translate(punct)\n",
    "        if w not in sw_list:\n",
    "            words_num.append(w)\n",
    "\n",
    "    for c in categories:\n",
    "        for word in words_num:\n",
    "            for c1 in categories:\n",
    "                try:\n",
    "                    d1 += category_dict[c1][word]\n",
    "                except KeyError:\n",
    "                    pass\n",
    "            d1 = d1/total\n",
    "            try:\n",
    "                nume *= ((1-a)*category_dict[c][word]/sums_dict[c]) + a*d1\n",
    "            except KeyError:\n",
    "                nume *= a*d1\n",
    "            d=0\n",
    "        num_dict[x1['headline']][c] = nume\n",
    "        nume = 1\n",
    "    words_num.clear()"
   ]
  },
  {
   "cell_type": "code",
   "execution_count": 175,
   "metadata": {},
   "outputs": [
    {
     "data": {
      "text/plain": [
       "7017      None\n",
       "82059     None\n",
       "70247     None\n",
       "51998     None\n",
       "114972    None\n",
       "          ... \n",
       "54156     None\n",
       "39989     None\n",
       "179620    None\n",
       "53843     None\n",
       "57905     None\n",
       "Length: 40170, dtype: object"
      ]
     },
     "execution_count": 175,
     "metadata": {},
     "output_type": "execute_result"
    }
   ],
   "source": [
    "val.apply(lambda x1:jms_numerator(x1),axis=1)"
   ]
  },
  {
   "cell_type": "code",
   "execution_count": 181,
   "metadata": {},
   "outputs": [
    {
     "data": {
      "text/plain": [
       "7017      None\n",
       "82059     None\n",
       "70247     None\n",
       "51998     None\n",
       "114972    None\n",
       "          ... \n",
       "54156     None\n",
       "39989     None\n",
       "179620    None\n",
       "53843     None\n",
       "57905     None\n",
       "Length: 40170, dtype: object"
      ]
     },
     "execution_count": 181,
     "metadata": {},
     "output_type": "execute_result"
    }
   ],
   "source": [
    "val.apply(lambda x1:smoothing(x1),axis=1)"
   ]
  },
  {
   "cell_type": "code",
   "execution_count": 182,
   "metadata": {},
   "outputs": [
    {
     "data": {
      "text/plain": [
       "7017      None\n",
       "82059     None\n",
       "70247     None\n",
       "51998     None\n",
       "114972    None\n",
       "          ... \n",
       "54156     None\n",
       "39989     None\n",
       "179620    None\n",
       "53843     None\n",
       "57905     None\n",
       "Length: 40170, dtype: object"
      ]
     },
     "execution_count": 182,
     "metadata": {},
     "output_type": "execute_result"
    }
   ],
   "source": [
    "num_dict = {sec:{} for sec in val['headline']}\n",
    "val.apply(lambda x1:numerator(x1),axis=1)"
   ]
  },
  {
   "cell_type": "code",
   "execution_count": 183,
   "metadata": {},
   "outputs": [
    {
     "data": {
      "text/plain": [
       "7017      None\n",
       "82059     None\n",
       "70247     None\n",
       "51998     None\n",
       "114972    None\n",
       "          ... \n",
       "54156     None\n",
       "39989     None\n",
       "179620    None\n",
       "53843     None\n",
       "57905     None\n",
       "Length: 40170, dtype: object"
      ]
     },
     "execution_count": 183,
     "metadata": {},
     "output_type": "execute_result"
    }
   ],
   "source": [
    "val.apply(lambda x1:denominator(x1),axis=1)"
   ]
  },
  {
   "cell_type": "code",
   "execution_count": 184,
   "metadata": {},
   "outputs": [
    {
     "name": "stderr",
     "output_type": "stream",
     "text": [
      "/var/folders/sz/57t4_wnd57s3qt84x7drdp7c0000gn/T/ipykernel_3398/2918355394.py:4: RuntimeWarning: invalid value encountered in double_scalars\n",
      "  final_prob[x1['headline']][c] = (total_probs[c])*num_dict[x1['headline']][c]/denom_dict[x1['headline']]\n"
     ]
    },
    {
     "data": {
      "text/plain": [
       "7017      None\n",
       "82059     None\n",
       "70247     None\n",
       "51998     None\n",
       "114972    None\n",
       "          ... \n",
       "54156     None\n",
       "39989     None\n",
       "179620    None\n",
       "53843     None\n",
       "57905     None\n",
       "Length: 40170, dtype: object"
      ]
     },
     "execution_count": 184,
     "metadata": {},
     "output_type": "execute_result"
    }
   ],
   "source": [
    "final_prob = {sec:{} for sec in val['headline']}\n",
    "val.apply(lambda x1:NBC(x1),axis=1)"
   ]
  },
  {
   "cell_type": "code",
   "execution_count": 185,
   "metadata": {},
   "outputs": [
    {
     "data": {
      "text/plain": [
       "7017      None\n",
       "82059     None\n",
       "70247     None\n",
       "51998     None\n",
       "114972    None\n",
       "          ... \n",
       "54156     None\n",
       "39989     None\n",
       "179620    None\n",
       "53843     None\n",
       "57905     None\n",
       "Length: 40170, dtype: object"
      ]
     },
     "execution_count": 185,
     "metadata": {},
     "output_type": "execute_result"
    }
   ],
   "source": [
    "list_acc = []\n",
    "val.apply(lambda x1:acc(x1),axis=1)"
   ]
  },
  {
   "cell_type": "code",
   "execution_count": 173,
   "metadata": {},
   "outputs": [
    {
     "name": "stdout",
     "output_type": "stream",
     "text": [
      "The accuracy of validation set with JMS(λ=0.1) is: 52.45705750560119 %\n"
     ]
    }
   ],
   "source": [
    "val_JMS_acc1 = 100*len(list_acc)/40170\n",
    "print(f'The accuracy of validation set with JMS(λ=0.1) is: {val_JMS_acc1} %')"
   ]
  },
  {
   "cell_type": "code",
   "execution_count": 179,
   "metadata": {},
   "outputs": [
    {
     "name": "stdout",
     "output_type": "stream",
     "text": [
      "The accuracy of validation set with JMS(λ=0.5) is: 51.83719193427931 %\n"
     ]
    }
   ],
   "source": [
    "val_JMS_acc2 = 100*len(list_acc)/40170\n",
    "print(f'The accuracy of validation set with JMS(λ=0.5) is: {val_JMS_acc2} %')"
   ]
  },
  {
   "cell_type": "code",
   "execution_count": 187,
   "metadata": {},
   "outputs": [
    {
     "name": "stdout",
     "output_type": "stream",
     "text": [
      "The accuracy of validation set with LS is: 53.13169031615634 %\n"
     ]
    }
   ],
   "source": [
    "val_LS_acc = 100*len(list_acc)/40170\n",
    "print(f'The accuracy of validation set with LS is: {val_LS_acc} %')"
   ]
  },
  {
   "cell_type": "code",
   "execution_count": 188,
   "metadata": {},
   "outputs": [
    {
     "data": {
      "text/plain": [
       "7017      None\n",
       "82059     None\n",
       "70247     None\n",
       "51998     None\n",
       "114972    None\n",
       "          ... \n",
       "54156     None\n",
       "39989     None\n",
       "179620    None\n",
       "53843     None\n",
       "57905     None\n",
       "Length: 40170, dtype: object"
      ]
     },
     "execution_count": 188,
     "metadata": {},
     "output_type": "execute_result"
    }
   ],
   "source": [
    "test.apply(lambda x1:jms_numerator(x1),axis=1)"
   ]
  },
  {
   "cell_type": "code",
   "execution_count": 195,
   "metadata": {},
   "outputs": [
    {
     "data": {
      "text/plain": [
       "7017      None\n",
       "82059     None\n",
       "70247     None\n",
       "51998     None\n",
       "114972    None\n",
       "          ... \n",
       "54156     None\n",
       "39989     None\n",
       "179620    None\n",
       "53843     None\n",
       "57905     None\n",
       "Length: 40170, dtype: object"
      ]
     },
     "execution_count": 195,
     "metadata": {},
     "output_type": "execute_result"
    }
   ],
   "source": [
    "test.apply(lambda x1:denominator(x1),axis=1)"
   ]
  },
  {
   "cell_type": "code",
   "execution_count": 196,
   "metadata": {},
   "outputs": [
    {
     "name": "stderr",
     "output_type": "stream",
     "text": [
      "/var/folders/sz/57t4_wnd57s3qt84x7drdp7c0000gn/T/ipykernel_3398/2918355394.py:4: RuntimeWarning: invalid value encountered in double_scalars\n",
      "  final_prob[x1['headline']][c] = (total_probs[c])*num_dict[x1['headline']][c]/denom_dict[x1['headline']]\n"
     ]
    },
    {
     "data": {
      "text/plain": [
       "7017      None\n",
       "82059     None\n",
       "70247     None\n",
       "51998     None\n",
       "114972    None\n",
       "          ... \n",
       "54156     None\n",
       "39989     None\n",
       "179620    None\n",
       "53843     None\n",
       "57905     None\n",
       "Length: 40170, dtype: object"
      ]
     },
     "execution_count": 196,
     "metadata": {},
     "output_type": "execute_result"
    }
   ],
   "source": [
    "final_prob = {sec:{} for sec in test['headline']}\n",
    "test.apply(lambda x1:NBC(x1),axis=1)"
   ]
  },
  {
   "cell_type": "code",
   "execution_count": 197,
   "metadata": {},
   "outputs": [
    {
     "data": {
      "text/plain": [
       "7017      None\n",
       "82059     None\n",
       "70247     None\n",
       "51998     None\n",
       "114972    None\n",
       "          ... \n",
       "54156     None\n",
       "39989     None\n",
       "179620    None\n",
       "53843     None\n",
       "57905     None\n",
       "Length: 40170, dtype: object"
      ]
     },
     "execution_count": 197,
     "metadata": {},
     "output_type": "execute_result"
    }
   ],
   "source": [
    "list_acc = []\n",
    "test.apply(lambda x1:acc(x1),axis=1)"
   ]
  },
  {
   "cell_type": "code",
   "execution_count": 192,
   "metadata": {},
   "outputs": [
    {
     "name": "stdout",
     "output_type": "stream",
     "text": [
      "The accuracy of test set with JMS(λ=0.5) is: 52.2504356484939 %\n"
     ]
    }
   ],
   "source": [
    "test_JMS_acc = 100*len(list_acc)/40170\n",
    "print(f'The accuracy of test set with JMS(λ=0.5) is: {test_JMS_acc} %')"
   ]
  },
  {
   "cell_type": "code",
   "execution_count": 193,
   "metadata": {},
   "outputs": [
    {
     "data": {
      "text/plain": [
       "7017      None\n",
       "82059     None\n",
       "70247     None\n",
       "51998     None\n",
       "114972    None\n",
       "          ... \n",
       "54156     None\n",
       "39989     None\n",
       "179620    None\n",
       "53843     None\n",
       "57905     None\n",
       "Length: 40170, dtype: object"
      ]
     },
     "execution_count": 193,
     "metadata": {},
     "output_type": "execute_result"
    }
   ],
   "source": [
    "test.apply(lambda x1:smoothing(x1),axis=1)"
   ]
  },
  {
   "cell_type": "code",
   "execution_count": 194,
   "metadata": {},
   "outputs": [
    {
     "data": {
      "text/plain": [
       "7017      None\n",
       "82059     None\n",
       "70247     None\n",
       "51998     None\n",
       "114972    None\n",
       "          ... \n",
       "54156     None\n",
       "39989     None\n",
       "179620    None\n",
       "53843     None\n",
       "57905     None\n",
       "Length: 40170, dtype: object"
      ]
     },
     "execution_count": 194,
     "metadata": {},
     "output_type": "execute_result"
    }
   ],
   "source": [
    "num_dict = {sec:{} for sec in test['headline']}\n",
    "test.apply(lambda x1:numerator(x1),axis=1)"
   ]
  },
  {
   "cell_type": "code",
   "execution_count": 198,
   "metadata": {},
   "outputs": [
    {
     "name": "stdout",
     "output_type": "stream",
     "text": [
      "The accuracy of test set with LS is: 53.13169031615634 %\n"
     ]
    }
   ],
   "source": [
    "test_LS_acc = 100*len(list_acc)/40170\n",
    "print(f'The accuracy of test set with LS is: {test_LS_acc} %')"
   ]
  },
  {
   "cell_type": "code",
   "execution_count": 228,
   "metadata": {},
   "outputs": [
    {
     "data": {
      "image/png": "[encoded data removed]",
      "text/plain": [
       "<Figure size 288x432 with 1 Axes>"
      ]
     },
     "metadata": {
      "needs_background": "light"
     },
     "output_type": "display_data"
    }
   ],
   "source": [
    "plt.rcParams[\"figure.figsize\"] = [4, 6]\n",
    "plt.rcParams[\"figure.autolayout\"] = True\n",
    "\n",
    "x = ['JMS','LS']\n",
    "y = [test_JMS_acc,test_LS_acc]\n",
    "\n",
    "width = 0.5\n",
    "fig, ax = plt.subplots()\n",
    "\n",
    "pps = ax.bar(x, y, width, align='center')\n",
    "\n",
    "for p in pps:\n",
    "   height = p.get_height()\n",
    "   ax.text(x=p.get_x() + p.get_width() / 2, y=height+.10,\n",
    "      s=\"{}%\".format(height),\n",
    "      ha='center')\n",
    "\n",
    "plt.show()"
   ]
  }
 ],
 "metadata": {
  "interpreter": {
   "hash": "aee8b7b246df8f9039afb4144a1f6fd8d2ca17a180786b69acc140d282b71a49"
  },
  "kernelspec": {
   "display_name": "Python 3.10.1 64-bit",
   "language": "python",
   "name": "python3"
  },
  "language_info": {
   "codemirror_mode": {
    "name": "ipython",
    "version": 3
   },
   "file_extension": ".py",
   "mimetype": "text/x-python",
   "name": "python",
   "nbconvert_exporter": "python",
   "pygments_lexer": "ipython3",
   "version": "3.10.1"
  },
  "orig_nbformat": 4
 },
 "nbformat": 4,
 "nbformat_minor": 2
}
