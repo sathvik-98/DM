{
 "cells": [
  {
   "cell_type": "code",
   "execution_count": 2,
   "metadata": {},
   "outputs": [
    {
     "name": "stdout",
     "output_type": "stream",
     "text": [
      "Please enter some observations\n"
     ]
    }
   ],
   "source": [
    "n = input()\n",
    "l = len(n)\n",
    "f = open('results.txt', 'w')\n",
    "f.write(f'Observation sequence Q: {n} \\n')\n",
    "f.write(f'Length of Q: {l} \\n')\n",
    "\n",
    "\n",
    "bag_list = [0.1,0.2,0.4,0.2,0.1]\n",
    "candy_list = [[1,0],[0.75,0.25],[0.5,0.5],[0.25,0.75],[0,1]]\n",
    "cherry = 0.5;lime = 0.5\n",
    "\n",
    "\n",
    "def p():\n",
    "    global n,l,f\n",
    "\n",
    "    if l==0:\n",
    "        print('Please enter some observations')\n",
    "    else:\n",
    "        i = list(n)[0]\n",
    "        if ( i == 'C'):\n",
    "            p_h1 = (bag_list[0]*candy_list[0][0])/cherry\n",
    "            p_h2 = (bag_list[1]*candy_list[1][0])/cherry\n",
    "            p_h3 = (bag_list[2]*candy_list[2][0])/cherry\n",
    "            p_h4 = (bag_list[3]*candy_list[3][0])/cherry\n",
    "            p_h5 = (bag_list[4]*candy_list[4][0])/cherry\n",
    "            \n",
    "        else:\n",
    "            p_h1 = (bag_list[0]*candy_list[0][1])/lime\n",
    "            p_h2 = (bag_list[1]*candy_list[1][1])/lime\n",
    "            p_h3 = (bag_list[2]*candy_list[2][1])/lime\n",
    "            p_h4 = (bag_list[3]*candy_list[3][1])/lime\n",
    "            p_h5 = (bag_list[4]*candy_list[4][1])/lime\n",
    "\n",
    "        c = p_h1+(p_h2*0.75)+(p_h3*0.5)+(p_h4*0.25)\n",
    "        li = p_h5+(p_h2*0.25)+(p_h3*0.5)+(p_h4*0.75)\n",
    "        k = [p_h1,p_h2,p_h3,p_h4,p_h5,c,li]\n",
    "        f.write(f'After Observation 1 = {i}: \\n')\n",
    "        f.write('\\n')\n",
    "        f.write(f'P(h1 | Q) = {p_h1} \\n')\n",
    "        f.write(f'P(h2 | Q) = {p_h2} \\n')\n",
    "        f.write(f'P(h3 | Q) = {p_h3} \\n')\n",
    "        f.write(f'P(h4 | Q) = {p_h4} \\n')\n",
    "        f.write(f'P(h5 | Q) = {p_h5} \\n')\n",
    "        f.write('\\n')\n",
    "        f.write(f'Probability that the next candy we pick will be C, given Q: {c} \\n')\n",
    "        f.write(f'Probability that the next candy we pick will be L, given Q: {li} \\n')\n",
    "    \n",
    "        k1 = 1\n",
    "        while l!= 1:\n",
    "            \n",
    "            i = list(n)[k1]\n",
    "            if (i == \"C\"):\n",
    "                p_h1 = (k[0]*candy_list[0][0])/k[5]\n",
    "                p_h2 = (k[1]*candy_list[1][0])/k[5]\n",
    "                p_h3 = (k[2]*candy_list[2][0])/k[5]\n",
    "                p_h4 = (k[3]*candy_list[3][0])/k[5]\n",
    "                p_h5 = (k[4]*candy_list[4][0])/k[5]\n",
    "            else:\n",
    "                p_h1 = (k[0]*candy_list[0][1])/k[6]\n",
    "                p_h2 = (k[1]*candy_list[1][1])/k[6]\n",
    "                p_h3 = (k[2]*candy_list[2][1])/k[6]\n",
    "                p_h4 = (k[3]*candy_list[3][1])/k[6]\n",
    "                p_h5 = (k[4]*candy_list[4][1])/k[6]\n",
    "            l = l-1\n",
    "            k1 = k1+1\n",
    "            c = p_h1+(p_h2*0.75)+(p_h3*0.5)+(p_h4*0.25)\n",
    "            li = p_h5+(p_h2*0.25)+(p_h3*0.5)+(p_h4*0.75)\n",
    "            k = [p_h1,p_h2,p_h3,p_h4,p_h5,c,li] \n",
    "            f.write('\\n')\n",
    "            f.write(f'After Observation {k1} = {i}: \\n')\n",
    "            f.write('\\n')\n",
    "            f.write(f'P(h1 | Q) = {p_h1} \\n')\n",
    "            f.write(f'P(h2 | Q) = {p_h2} \\n')\n",
    "            f.write(f'P(h3 | Q) = {p_h3} \\n')\n",
    "            f.write(f'P(h4 | Q) = {p_h4} \\n')\n",
    "            f.write(f'P(h5 | Q) = {p_h5} \\n')\n",
    "            f.write('\\n')\n",
    "            f.write(f'Probability that the next candy we pick will be C, given Q: {c} \\n')\n",
    "            f.write(f'Probability that the next candy we pick will be L, given Q: {li} \\n ')  \n",
    "\n",
    "        f.close()    \n",
    "\n",
    "p()"
   ]
  }
 ],
 "metadata": {
  "kernelspec": {
   "display_name": "Python 3.10.1 64-bit",
   "language": "python",
   "name": "python3"
  },
  "language_info": {
   "codemirror_mode": {
    "name": "ipython",
    "version": 3
   },
   "file_extension": ".py",
   "mimetype": "text/x-python",
   "name": "python",
   "nbconvert_exporter": "python",
   "pygments_lexer": "ipython3",
   "version": "3.10.1"
  },
  "orig_nbformat": 4,
  "vscode": {
   "interpreter": {
    "hash": "aee8b7b246df8f9039afb4144a1f6fd8d2ca17a180786b69acc140d282b71a49"
   }
  }
 },
 "nbformat": 4,
 "nbformat_minor": 2
}
