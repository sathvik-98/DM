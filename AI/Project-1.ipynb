{
 "cells": [
  {
   "cell_type": "code",
   "execution_count": null,
   "metadata": {},
   "outputs": [],
   "source": [
    "val = input('enter')\n",
    "if val.count(' ') == 3:\n",
    "    unInformed(val.split(\" \")[2])\n",
    "else:\n",
    "    Informed(val.split(\" \")[2])"
   ]
  },
  {
   "cell_type": "code",
   "execution_count": 21,
   "metadata": {},
   "outputs": [],
   "source": [
    "closed_set = []\n",
    "fringe = {}\n",
    "parent = []"
   ]
  },
  {
   "cell_type": "code",
   "execution_count": 23,
   "metadata": {},
   "outputs": [],
   "source": [
    "f = open(val.split(\" \")[1], \"r\")\n",
    "contents = f.read().splitlines()"
   ]
  },
  {
   "cell_type": "code",
   "execution_count": 24,
   "metadata": {},
   "outputs": [],
   "source": [
    "f1 = open(val.split(\" \")[4], \"r\")\n",
    "contents1 = f1.read().splitlines()"
   ]
  },
  {
   "cell_type": "code",
   "execution_count": 25,
   "metadata": {},
   "outputs": [],
   "source": [
    "heuristc = {}\n",
    "for i in contents1:\n",
    "    if i == 'END OF INPUT':\n",
    "        break\n",
    "    else:\n",
    "        heuristc[i.split(\" \")[0]] = i.split(\" \")[1]"
   ]
  },
  {
   "cell_type": "code",
   "execution_count": 26,
   "metadata": {},
   "outputs": [],
   "source": [
    "nodes_data = []\n",
    "for i in contents:\n",
    "    if i == 'END OF INPUT':\n",
    "        break\n",
    "    else:\n",
    "        nodes_data.append(i)"
   ]
  },
  {
   "cell_type": "code",
   "execution_count": 27,
   "metadata": {},
   "outputs": [],
   "source": [
    "fringe[(val.split(\" \")[2],0)] = 0\n",
    "parent.append({(val.split(\" \")[2],0):[None,0]})\n",
    "goal_node = val.split(\" \")[3]\n",
    "k1 =1\n",
    "nodes_popped = 0\n",
    "nodes_expanded = 0\n",
    "nodes_genarated = 1\n",
    "g_n = 0\n",
    "res =[]"
   ]
  },
  {
   "cell_type": "code",
   "execution_count": 28,
   "metadata": {},
   "outputs": [],
   "source": [
    "def successor(node,full_node):\n",
    "    f_n = 0;f1_n = 0\n",
    "    global nodes_genarated,fringe,k1\n",
    "    for i in nodes_data:\n",
    "        if node == i.split(\" \")[0]:\n",
    "            f_n = g_n + float(i.split(\" \")[2]) \n",
    "            #- float(heuristc[node])\n",
    "            #f1_n= f_n + float(heuristc[i.split(\" \")[1]])\n",
    "            fringe[(i.split(\" \")[1],k1)] = f_n\n",
    "            parent.append({(i.split(\" \")[1],k1):[full_node, f_n]})\n",
    "            k1 = k1+1\n",
    "            nodes_genarated += 1\n",
    "        if node == i.split(\" \")[1]:\n",
    "            f_n = g_n + float(i.split(\" \")[2]) \n",
    "            #- float(heuristc[node])\n",
    "            #f1_n= f_n + float(heuristc[i.split(\" \")[0]])\n",
    "            fringe[(i.split(\" \")[0],k1)] = f_n\n",
    "            parent.append({(i.split(\" \")[0],k1):[full_node, f_n]})\n",
    "            k1 = k1+1\n",
    "            nodes_genarated += 1\n"
   ]
  },
  {
   "cell_type": "code",
   "execution_count": 29,
   "metadata": {},
   "outputs": [],
   "source": [
    "def unInformed(node):\n",
    "    global nodes_popped,nodes_expanded,g_n,fringe\n",
    "    while len(fringe) != 0:\n",
    "        temp = min(fringe.values())\n",
    "        res = [key for key in fringe if fringe[key] == temp]\n",
    "        g_n = fringe.pop(res[0])\n",
    "        nodes_popped +=1\n",
    "        if res[0][0] == goal_node :\n",
    "            return goalNode(res[0])\n",
    "        if res[0][0] not in closed_set:\n",
    "            closed_set.append(res[0][0])\n",
    "            successor(res[0][0],res[0])\n",
    "            nodes_expanded += 1\n",
    "    if len(fringe) == 0:\n",
    "        print('Nodes Popped:'+ str(nodes_popped) )\n",
    "        print('Nodes Expanded:'+ str(nodes_expanded))\n",
    "        print('Nodes Generated:'+ str(nodes_genarated))\n",
    "        print('Distance: infinity' )\n",
    "        print('Route: \\nNone')"
   ]
  },
  {
   "cell_type": "code",
   "execution_count": 30,
   "metadata": {},
   "outputs": [],
   "source": [
    "def goalNode(full_node):\n",
    "    global path\n",
    "    path = []\n",
    "    k= g_n\n",
    "    print('Nodes Popped:'+ str(nodes_popped) )\n",
    "    print('Nodes Expanded:'+ str(nodes_expanded))\n",
    "    print('Nodes Generated:'+ str(nodes_genarated))\n",
    "    print('Distance:' + str(g_n) +'km')\n",
    "    print('Route: ')\n",
    "    while full_node != (val.split(\" \")[2],0):\n",
    "        for i in parent:\n",
    "            try:\n",
    "                if i[full_node][1] == k:\n",
    "                    node = full_node[0]\n",
    "                    full_node = i[full_node][0]\n",
    "                    for i in parent:\n",
    "                        try:\n",
    "                            g =  i[full_node][1]\n",
    "                            path.append(f'{full_node[0]} to {node}, {k-g} km')\n",
    "                        except KeyError:\n",
    "                            continue\n",
    "                k = g\n",
    "            except KeyError:\n",
    "                continue\n",
    "    i = len(path)-1\n",
    "    while i!= -1:\n",
    "        print(path[i])\n",
    "        i =i-1"
   ]
  },
  {
   "cell_type": "code",
   "execution_count": 31,
   "metadata": {},
   "outputs": [
    {
     "name": "stdout",
     "output_type": "stream",
     "text": [
      "Nodes Popped:12\n",
      "Nodes Expanded:6\n",
      "Nodes Generated:20\n",
      "Distance:297.0km\n",
      "Route: \n",
      "Bremen to Hannover, 132.0 km\n",
      "Hannover to Kassel, 165.0 km\n"
     ]
    }
   ],
   "source": [
    "unInformed(val.split(\" \")[2])"
   ]
  }
 ],
 "metadata": {
  "kernelspec": {
   "display_name": "Python 3.10.1 64-bit",
   "language": "python",
   "name": "python3"
  },
  "language_info": {
   "codemirror_mode": {
    "name": "ipython",
    "version": 3
   },
   "file_extension": ".py",
   "mimetype": "text/x-python",
   "name": "python",
   "nbconvert_exporter": "python",
   "pygments_lexer": "ipython3",
   "version": "3.10.1"
  },
  "orig_nbformat": 4,
  "vscode": {
   "interpreter": {
    "hash": "aee8b7b246df8f9039afb4144a1f6fd8d2ca17a180786b69acc140d282b71a49"
   }
  }
 },
 "nbformat": 4,
 "nbformat_minor": 2
}
